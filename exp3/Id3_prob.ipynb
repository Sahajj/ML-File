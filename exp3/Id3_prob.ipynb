{
 "cells": [
  {
   "cell_type": "code",
   "execution_count": 1,
   "id": "ce3e2927",
   "metadata": {},
   "outputs": [],
   "source": [
    "import numpy as np \n",
    "import pandas as pd\n",
    "from id3 import ID3"
   ]
  },
  {
   "cell_type": "code",
   "execution_count": 2,
   "id": "ccd508d6",
   "metadata": {},
   "outputs": [],
   "source": [
    "df = pd.read_csv(\"/media/sahaj9/Apollo/6 th sem/ml/ml_file/playTennis.csv\")\n",
    "X = np.array(df.drop([\"day\",\"play\"], axis = \"columns\"))\n",
    "y = np.array(df[\"play\"])\n",
    "feature_names = df.columns.drop([\"day\", \"play\"])\n",
    "\n",
    "X_train = X[:10]\n",
    "X_test = X[10:14]\n",
    "y_train = y[:10]\n",
    "y_test = y[10:14]"
   ]
  },
  {
   "cell_type": "code",
   "execution_count": 3,
   "id": "06bab36b",
   "metadata": {},
   "outputs": [
    {
     "name": "stdout",
     "output_type": "stream",
     "text": [
      "['No', 'Yes', 'Yes', 'No'] ['Yes' 'Yes' 'Yes' 'No']\n"
     ]
    }
   ],
   "source": [
    "mymodel = ID3()\n",
    "mymodel.fit(X_train, y_train, feature_names)\n",
    "\n",
    "y_pred = mymodel.predict(X_test)\n",
    "print(y_pred, y_test)"
   ]
  },
  {
   "cell_type": "code",
   "execution_count": 4,
   "id": "bca24d54",
   "metadata": {},
   "outputs": [
    {
     "name": "stdout",
     "output_type": "stream",
     "text": [
      "              precision    recall  f1-score   support\n",
      "\n",
      "          No       0.50      1.00      0.67         1\n",
      "         Yes       1.00      0.67      0.80         3\n",
      "\n",
      "    accuracy                           0.75         4\n",
      "   macro avg       0.75      0.83      0.73         4\n",
      "weighted avg       0.88      0.75      0.77         4\n",
      "\n"
     ]
    }
   ],
   "source": [
    "from sklearn.metrics import classification_report\n",
    "print(classification_report(y_test, y_pred))"
   ]
  },
  {
   "cell_type": "code",
   "execution_count": 5,
   "id": "84615204",
   "metadata": {},
   "outputs": [
    {
     "name": "stdout",
     "output_type": "stream",
     "text": [
      "-------------------- Decision tree -----------------------------\n",
      "(outlook=?)\n",
      "  |-- Sunny -- (temp=?)\n",
      "  |              |-- Cool -- class:Yes\n",
      "  |              |-- Mild -- class:No\n",
      "  |              |-- Hot -- class:No\n",
      "  |-- Overcast -- class:Yes\n",
      "  |-- Rain -- (wind=?)\n",
      "  |             |-- Weak -- class:Yes\n",
      "  |             |-- Strong -- class:No\n",
      "----------------------------------------------------------------\n"
     ]
    }
   ],
   "source": [
    "mymodel.print_dt()\n"
   ]
  }
 ],
 "metadata": {
  "kernelspec": {
   "display_name": "Python 3 (ipykernel)",
   "language": "python",
   "name": "python3"
  },
  "language_info": {
   "codemirror_mode": {
    "name": "ipython",
    "version": 3
   },
   "file_extension": ".py",
   "mimetype": "text/x-python",
   "name": "python",
   "nbconvert_exporter": "python",
   "pygments_lexer": "ipython3",
   "version": "3.10.6"
  },
  "vscode": {
   "interpreter": {
    "hash": "aad6990f0ff247433d1b0826c3498f14106a9dc663faf699ba969229092f8777"
   }
  }
 },
 "nbformat": 4,
 "nbformat_minor": 5
}
