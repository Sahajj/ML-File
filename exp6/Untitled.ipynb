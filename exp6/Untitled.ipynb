{
 "cells": [
  {
   "cell_type": "markdown",
   "id": "c7354cd1",
   "metadata": {},
   "source": [
    "7. Write a program to construct a Bayesian network considering medical data. Use this model to demonstrate the diagnosis of heart patients using standard Heart Disease Data Set. You can use Java/Python ML library classes/API."
   ]
  },
  {
   "cell_type": "code",
   "execution_count": 24,
   "id": "ad02e507",
   "metadata": {},
   "outputs": [],
   "source": [
    "import bayespy as bp\n",
    "import numpy as np\n",
    "import csv \n",
    "from colorama import init\n",
    "from colorama import Fore, Back, Style\n",
    "init()"
   ]
  },
  {
   "cell_type": "code",
   "execution_count": 25,
   "id": "27474dcc",
   "metadata": {},
   "outputs": [],
   "source": [
    "# Define Parameter Enum values\n",
    "#Age\n",
    "ageEnum = {'SuperSeniorCitizen':0, 'SeniorCitizen':1, 'MiddleAged':2, 'Youth':3, 'Teen':4}\n",
    "# Gender\n",
    "genderEnum = {'Male':0, 'Female':1}\n",
    "# FamilyHistory\n",
    "familyHistoryEnum = {'Yes':0, 'No':1}\n",
    "# Diet(Calorie Intake)\n",
    "dietEnum = {'High':0, 'Medium':1, 'Low':2}\n",
    "# LifeStyle\n",
    "lifeStyleEnum = {'Athlete':0, 'Active':1, 'Moderate':2, 'Sedetary':3}\t\n",
    "# Cholesterol\n",
    "cholesterolEnum = {'High':0, 'BorderLine':1, 'Normal':2}\n",
    "# HeartDisease\n",
    "heartDiseaseEnum = {'Yes':0, 'No':1}\n",
    "#heart_disease_data.csv"
   ]
  },
  {
   "cell_type": "code",
   "execution_count": 29,
   "id": "0a3f54e4",
   "metadata": {},
   "outputs": [
    {
     "ename": "NameError",
     "evalue": "name 'age' is not defined",
     "output_type": "error",
     "traceback": [
      "\u001b[0;31m---------------------------------------------------------------------------\u001b[0m",
      "\u001b[0;31mNameError\u001b[0m                                 Traceback (most recent call last)",
      "Cell \u001b[0;32mIn[29], line 6\u001b[0m\n\u001b[1;32m      4\u001b[0m     data \u001b[38;5;241m=\u001b[39m []\n\u001b[1;32m      5\u001b[0m     \u001b[38;5;28;01mfor\u001b[39;00m x \u001b[38;5;129;01min\u001b[39;00m dataset:\t\n\u001b[0;32m----> 6\u001b[0m         data\u001b[38;5;241m.\u001b[39mappend([\u001b[43mage\u001b[49m[x[\u001b[38;5;241m0\u001b[39m]],GenderEnum[x[\u001b[38;5;241m1\u001b[39m]],FamilyEnum[x[\u001b[38;5;241m2\u001b[39m]],dietEnum[x[\u001b[38;5;241m3\u001b[39m]],LifestyleEnum[x[\u001b[38;5;241m4\u001b[39m]],cholesterolEnum[x[\u001b[38;5;241m5\u001b[39m]],heartdiseaseEnum[x[\u001b[38;5;241m6\u001b[39m]]])\n\u001b[1;32m      7\u001b[0m \u001b[38;5;66;03m# Training data for machine learning todo: should import from csv\u001b[39;00m\n\u001b[1;32m      8\u001b[0m data \u001b[38;5;241m=\u001b[39m np\u001b[38;5;241m.\u001b[39marray(data)\n",
      "\u001b[0;31mNameError\u001b[0m: name 'age' is not defined"
     ]
    }
   ],
   "source": [
    "with open('heartdisease.csv') as csvfile:\n",
    "    lines = csv.reader(csvfile)\n",
    "    dataset = list(lines)\n",
    "    data = []\n",
    "    for x in dataset:\t\n",
    "        data.append([ageEnum[x[0]],GenderEnum[x[1]],FamilyEnum[x[2]],dietEnum[x[3]],LifestyleEnum[x[4]],cholesterolEnum[x[5]],heartdiseaseEnum[x[6]]])\n",
    "# Training data for machine learning todo: should import from csv\n",
    "data = np.array(data)\n",
    "N = len(data)"
   ]
  },
  {
   "cell_type": "code",
   "execution_count": null,
   "id": "bdd900ad",
   "metadata": {},
   "outputs": [],
   "source": []
  }
 ],
 "metadata": {
  "kernelspec": {
   "display_name": "Python 3 (ipykernel)",
   "language": "python",
   "name": "python3"
  },
  "language_info": {
   "codemirror_mode": {
    "name": "ipython",
    "version": 3
   },
   "file_extension": ".py",
   "mimetype": "text/x-python",
   "name": "python",
   "nbconvert_exporter": "python",
   "pygments_lexer": "ipython3",
   "version": "3.10.6"
  }
 },
 "nbformat": 4,
 "nbformat_minor": 5
}
