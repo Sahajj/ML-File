{
 "cells": [
  {
   "cell_type": "markdown",
   "metadata": {},
   "source": [
    "### Content\n",
    "Introduction\n",
    "Error back-propagation algorithm theory\n",
    "Database description\n",
    "Back-propagation Neural Network implementation\n",
    "Conclusion"
   ]
  },
  {
   "cell_type": "markdown",
   "metadata": {},
   "source": [
    "### 1. Introduction¶\n",
    "The Back-Propagation Neural Network is a feed-forward network with a quite simple arhitecture. The arhitecture of the network consists of an input layer, one or more hidden layers and an output layer. This type of network can distinguish data that is not linearly separable. We use error back-propagation algorithm to tune the network iterative."
   ]
  },
  {
   "cell_type": "markdown",
   "metadata": {},
   "source": [
    "### 2. Error back-propagation algorithm theory¶\n",
    "The error back-propagation algorithm consists of two big steps:\n",
    "\n",
    "Feeding forward the input from the database to the input layer than to the hidden layers and finally to the output layer.\n",
    "Calculating the output error and feeding it backwards tuning the network's variables."
   ]
  },
  {
   "cell_type": "markdown",
   "metadata": {},
   "source": [
    "### 3. Database description\n",
    "In this example we are going to use Duke Breast Cancer database that consists of [86] entries and [7129] attributes plus the class attribute that is located on the first column. The data is numerical and has no missing values."
   ]
  },
  {
   "cell_type": "markdown",
   "metadata": {},
   "source": [
    "### 4. Back-propagation Neural Network implementation\n",
    "First of all, we need to load the database."
   ]
  },
  {
   "cell_type": "code",
   "execution_count": 1,
   "metadata": {},
   "outputs": [],
   "source": [
    "import numpy as np \n",
    "from sklearn.model_selection import train_test_split"
   ]
  },
  {
   "cell_type": "code",
   "execution_count": 2,
   "metadata": {},
   "outputs": [
    {
     "name": "stdout",
     "output_type": "stream",
     "text": [
      "Database raw shape (86 ,7130)\n"
     ]
    }
   ],
   "source": [
    "db = np.loadtxt(\"duke-breast-cancer.txt\")\n",
    "print(\"Database raw shape (%s ,%s)\" % np.shape(db))"
   ]
  },
  {
   "cell_type": "code",
   "execution_count": 3,
   "metadata": {},
   "outputs": [
    {
     "name": "stdout",
     "output_type": "stream",
     "text": [
      "(77, 7129) (9, 7129)\n"
     ]
    }
   ],
   "source": [
    "'''\n",
    "Now we have to shuffle it and then split it into training 90% and testing 10% so that the network \n",
    "can train itslef better. If needed you can also normalize the database.\n",
    "'''\n",
    "\n",
    "np.random.shuffle(db)\n",
    "y = db[:, 0]\n",
    "x = np.delete(db, [0], axis=1)\n",
    "x_train, x_test, y_train, y_test = train_test_split(x, y, test_size=0.1)\n",
    "print(np.shape(x_train),np.shape(x_test))"
   ]
  },
  {
   "cell_type": "markdown",
   "metadata": {},
   "source": [
    "Now we have to create the hidden layer vector, weight's matrix, output layer vector and the hidden weight's matrix. We choose the hidden layer to be made of a number of [72] hidden perceptrons. The output layer needs to have a number of perceptrons equal to the number of classes.The weight's matrix will have the following shape: lines = number of the database attributes, cols = number of hidden layer perceptrons and the hidden weight's matrix will have the following shape: lines = hidden layer length, cols = number of output layer perceptrons."
   ]
  },
  {
   "cell_type": "code",
   "execution_count": 4,
   "metadata": {},
   "outputs": [],
   "source": [
    "hidden_layer = np.zeros(72)\n",
    "weights = np.random.random((len(x[0]), 72))\n",
    "output_layer = np.zeros(2)\n",
    "hidden_weights = np.random.random((72, 2))"
   ]
  },
  {
   "cell_type": "markdown",
   "metadata": {},
   "source": [
    "To continue we need to implement:\n",
    "\n",
    "1. Sum function\n",
    "2. Activation function\n",
    "3. SoftMax function\n",
    "4. Recalculate Weights function\n",
    "5. Back-propagation function\n"
   ]
  },
  {
   "attachments": {},
   "cell_type": "markdown",
   "metadata": {},
   "source": [
    "### Sum function¶\n",
    "s_i is the sum for [i]th perceptron from the layer.!"
   ]
  },
  {
   "cell_type": "code",
   "execution_count": 5,
   "metadata": {},
   "outputs": [],
   "source": [
    "def sum_function(weights, index_locked_col, x):\n",
    "    result = 0\n",
    "    for i in range(0, len(x)):\n",
    "        result += x[i] * weights[i][index_locked_col]\n",
    "    return result"
   ]
  },
  {
   "cell_type": "markdown",
   "metadata": {},
   "source": [
    "### Activation function\n",
    "g(s_i) is the activation for the [i]th perceptron from the layer."
   ]
  },
  {
   "cell_type": "code",
   "execution_count": 6,
   "metadata": {},
   "outputs": [],
   "source": [
    "def activate_layer(layer, weights, x):\n",
    "    for i in range(0, len(layer)):\n",
    "        layer[i] = 1.7159 * np.tanh(2.0 * sum_function(weights, i, x) / 3.0)"
   ]
  },
  {
   "attachments": {
    "sm.png": {
     "image/png": "[encoded data removed]"
    }
   },
   "cell_type": "markdown",
   "metadata": {},
   "source": [
    "### SoftMax function\n",
    "The softmax function, or normalized exponential function, is a generalization of the logistic function that \"squashes\" a K-dimensional vector z of arbitrary real values to a K-dimensional vector σ ( z ) of real values in the range (0, 1) that add up to 1.  ![sm.png](attachment:sm.png)"
   ]
  },
  {
   "cell_type": "code",
   "execution_count": 7,
   "metadata": {},
   "outputs": [],
   "source": [
    "def soft_max(layer):\n",
    "    soft_max_output_layer = np.zeros(len(layer))\n",
    "    for i in range(0, len(layer)):\n",
    "        denominator = 0\n",
    "        for j in range(0, len(layer)):\n",
    "            denominator += np.exp(layer[j] - np.max(layer))\n",
    "        soft_max_output_layer[i] = np.exp(layer[i] - np.max(layer)) / denominator\n",
    "    return soft_max_output_layer"
   ]
  },
  {
   "attachments": {
    "w.png": {
     "image/png": "[encoded data removed]"
    }
   },
   "cell_type": "markdown",
   "metadata": {},
   "source": [
    "### Recalculate weights function\n",
    "Here we tune the network weights and hidden weights matrix. We are going to use this inside the back propagation function. ![w.png](attachment:w.png)"
   ]
  },
  {
   "cell_type": "code",
   "execution_count": 8,
   "metadata": {},
   "outputs": [],
   "source": [
    "def recalculate_weights(learning_rate, weights, gradient, activation):\n",
    "    for i in range(0, len(weights)):\n",
    "        for j in range(0, len(weights[i])):\n",
    "            weights[i][j] = (learning_rate * gradient[j] * activation[i]) + weights[i][j]"
   ]
  },
  {
   "attachments": {},
   "cell_type": "markdown",
   "metadata": {},
   "source": [
    "## Back-propagation function\n",
    "In this function we find out the output layer gradient and the hidden layer gradient to recalculate the network weights.\n",
    "Output gradient formula\n",
    "![image.png](https://image.ibb.co/eJ9qUn/go.png)\n",
    "Hidden gradient formula\n",
    "![image.png](https://image.ibb.co/mYQ3h7/gh.png)"
   ]
  },
  {
   "cell_type": "code",
   "execution_count": 9,
   "metadata": {},
   "outputs": [],
   "source": [
    "def back_propagation(hidden_layer, output_layer, one_hot_encoding, learning_rate, x):\n",
    "    output_derivative = np.zeros(2)\n",
    "    output_gradient = np.zeros(2)\n",
    "    for i in range(0, len(output_layer)):\n",
    "        output_derivative[i] = (1.0 - output_layer[i]) * output_layer[i]\n",
    "    for i in range(0, len(output_layer)):\n",
    "        output_gradient[i] = output_derivative[i] * (one_hot_encoding[i] - output_layer[i])\n",
    "    hidden_derivative = np.zeros(72)\n",
    "    hidden_gradient = np.zeros(72)\n",
    "    for i in range(0, len(hidden_layer)):\n",
    "        hidden_derivative[i] = (1.0 - hidden_layer[i]) * (1.0 + hidden_layer[i])\n",
    "    for i in range(0, len(hidden_layer)):\n",
    "        sum_ = 0\n",
    "        for j in range(0, len(output_gradient)):\n",
    "            sum_ += output_gradient[j] * hidden_weights[i][j]\n",
    "        hidden_gradient[i] = sum_ * hidden_derivative[i]\n",
    "    recalculate_weights(learning_rate, hidden_weights, output_gradient, hidden_layer)\n",
    "    recalculate_weights(learning_rate, weights, hidden_gradient, x)"
   ]
  },
  {
   "cell_type": "markdown",
   "metadata": {},
   "source": [
    "Next we can [one hot encode](https://www.quora.com/What-is-one-hot-encoding-and-when-is-it-used-in-data-science) our output and start training our network iterative."
   ]
  },
  {
   "cell_type": "code",
   "execution_count": 15,
   "metadata": {},
   "outputs": [
    {
     "name": "stdout",
     "output_type": "stream",
     "text": [
      "MLP Correct answers while learning: 65 / 77 (Accuracy = 0.8441558441558441) on Duke breast cancer database.\n"
     ]
    }
   ],
   "source": [
    "one_hot_encoding = np.zeros((2,2))\n",
    "for i in range(0, len(one_hot_encoding)):\n",
    "    one_hot_encoding[i][i] = 1\n",
    "training_correct_answers = 0\n",
    "for i in range(0, len(x_train)):\n",
    "    activate_layer(hidden_layer, weights, x_train[i])\n",
    "    activate_layer(output_layer, hidden_weights, hidden_layer)\n",
    "    output_layer = soft_max(output_layer)\n",
    "    training_correct_answers += 1 if y_train[i] == np.argmax(output_layer) else 0\n",
    "    back_propagation(hidden_layer, output_layer, one_hot_encoding[int(y_train[i])], -1, x_train[i])\n",
    "print(\"MLP Correct answers while learning: %s / %s (Accuracy = %s) on %s database.\" % (training_correct_answers, len(x_train), \n",
    "                                                                                       training_correct_answers/len(x_train),\"Duke breast cancer\"))"
   ]
  },
  {
   "cell_type": "markdown",
   "metadata": {},
   "source": [
    "The accuracy of the test depends on the random generated weight's matrix and the learning rate. Using different learning rates and weight's will generate a different accuracy.\n"
   ]
  },
  {
   "cell_type": "code",
   "execution_count": 16,
   "metadata": {},
   "outputs": [
    {
     "name": "stdout",
     "output_type": "stream",
     "text": [
      "MLP Correct answers while testing: 9 / 9 (Accuracy = 1.0) on Duke breast cancer database\n"
     ]
    }
   ],
   "source": [
    "testing_correct_answers = 0\n",
    "for i in range(0, len(x_test)):\n",
    "    activate_layer(hidden_layer, weights, x_test[i])\n",
    "    activate_layer(output_layer, hidden_weights, hidden_layer)\n",
    "    output_layer = soft_max(output_layer)\n",
    "    testing_correct_answers += 1 if y_test[i] == np.argmax(output_layer) else 0\n",
    "print(\"MLP Correct answers while testing: %s / %s (Accuracy = %s) on %s database\" % (testing_correct_answers, len(x_test),\n",
    "                                                                                     testing_correct_answers/len(x_test), \"Duke breast cancer\"))"
   ]
  },
  {
   "cell_type": "markdown",
   "metadata": {},
   "source": [
    "On this testing set the accuracy can go up to even 100%  with the right amount of hidden perceptrons in the hidden layer. In this example we used a learning rate of [-1] with a total of [72] hidden perceptrons in the hidden layer."
   ]
  },
  {
   "cell_type": "code",
   "execution_count": null,
   "metadata": {},
   "outputs": [],
   "source": []
  }
 ],
 "metadata": {
  "kernelspec": {
   "display_name": "Python 3 (ipykernel)",
   "language": "python",
   "name": "python3"
  },
  "language_info": {
   "codemirror_mode": {
    "name": "ipython",
    "version": 3
   },
   "file_extension": ".py",
   "mimetype": "text/x-python",
   "name": "python",
   "nbconvert_exporter": "python",
   "pygments_lexer": "ipython3",
   "version": "3.10.6"
  },
  "vscode": {
   "interpreter": {
    "hash": "916dbcbb3f70747c44a77c7bcd40155683ae19c65e1c03b4aa3499c5328201f1"
   }
  }
 },
 "nbformat": 4,
 "nbformat_minor": 2
}
